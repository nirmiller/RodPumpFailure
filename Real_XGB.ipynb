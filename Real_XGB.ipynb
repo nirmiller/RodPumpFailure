{
  "nbformat": 4,
  "nbformat_minor": 0,
  "metadata": {
    "colab": {
      "provenance": []
    },
    "kernelspec": {
      "name": "python3",
      "display_name": "Python 3"
    },
    "language_info": {
      "name": "python"
    }
  },
  "cells": [
    {
      "cell_type": "code",
      "source": [
        "from google.colab import drive\n",
        "drive.mount('/content/drive')"
      ],
      "metadata": {
        "colab": {
          "base_uri": "https://localhost:8080/"
        },
        "id": "31ty4ZUhHqqI",
        "outputId": "6a905e54-0e24-4473-809d-863dd71918a9"
      },
      "execution_count": null,
      "outputs": [
        {
          "output_type": "stream",
          "name": "stdout",
          "text": [
            "Drive already mounted at /content/drive; to attempt to forcibly remount, call drive.mount(\"/content/drive\", force_remount=True).\n"
          ]
        }
      ]
    },
    {
      "cell_type": "code",
      "execution_count": null,
      "metadata": {
        "id": "LmtLth8fpiXG",
        "colab": {
          "base_uri": "https://localhost:8080/"
        },
        "outputId": "6708ca2a-ab3f-4eb1-f4a0-3054f3e9af5a"
      },
      "outputs": [
        {
          "output_type": "stream",
          "name": "stdout",
          "text": [
            "Looking in indexes: https://pypi.org/simple, https://us-python.pkg.dev/colab-wheels/public/simple/\n",
            "Requirement already satisfied: xgboost in /usr/local/lib/python3.9/dist-packages (1.7.5)\n",
            "Requirement already satisfied: numpy in /usr/local/lib/python3.9/dist-packages (from xgboost) (1.22.4)\n",
            "Requirement already satisfied: scipy in /usr/local/lib/python3.9/dist-packages (from xgboost) (1.10.1)\n"
          ]
        }
      ],
      "source": [
        "pip install xgboost\n"
      ]
    },
    {
      "cell_type": "code",
      "source": [
        "import xgboost as xgb\n",
        "\n",
        "from sklearn.metrics import accuracy_score\n",
        "\n",
        "import pandas as pd\n",
        "import matplotlib.pyplot as plt\n",
        "import numpy as np\n",
        "import math\n",
        "from sklearn import preprocessing\n",
        "import plotly.express as px\n",
        "%matplotlib inline\n",
        "import statsmodels.api as sm\n",
        "from statsmodels.formula.api import ols\n",
        "from sklearn.preprocessing import MinMaxScaler\n",
        "import seaborn as sns\n",
        "from sklearn.neighbors import KNeighborsClassifier\n",
        "from sklearn.model_selection import train_test_split\n",
        "from sklearn.metrics import accuracy_score\n",
        "from sklearn.model_selection import cross_val_score\n",
        "import random\n",
        "from sklearn import metrics\n"
      ],
      "metadata": {
        "id": "tz1sQSs5dIrE"
      },
      "execution_count": null,
      "outputs": []
    },
    {
      "cell_type": "code",
      "source": [
        "data = pd.read_csv('/content/drive/MyDrive/Group 3 Inventors Program Project/Data Sets/rodpump_failure.csv')\n",
        "data"
      ],
      "metadata": {
        "colab": {
          "base_uri": "https://localhost:8080/",
          "height": 834
        },
        "id": "8zen5ZHBdeaN",
        "outputId": "9e20c60a-6a14-4f85-ab53-bb161072fe25"
      },
      "execution_count": null,
      "outputs": [
        {
          "output_type": "execute_result",
          "data": {
            "text/plain": [
              "                      roduid          UWI               NODEID  \\\n",
              "0     GB27GKBE51029074693667  175-58-0111     box-child-doctor   \n",
              "1     GB53OEVX46438297645035  333-68-3523        outside-worry   \n",
              "2     GB95BPWW35640301552066  165-51-5897    near-learn-simply   \n",
              "3     GB79UEDN31454825972680  543-56-3494    sea-improve-place   \n",
              "4     GB20XCTM13691331349509  391-37-2039   personal-candidate   \n",
              "...                      ...          ...                  ...   \n",
              "2591  GB74QISK75341223174934  454-02-0835  raise-itself-others   \n",
              "2592  GB75FIRZ53489602517781  289-32-8553     effect-hand-bill   \n",
              "2593  GB54JAPU86068543576293  398-34-2865      manage-force-tv   \n",
              "2594  GB72HWVC93865937237796  354-39-2775   wide-recently-star   \n",
              "2595  GB18DGAF81117806823611  814-39-3589  whose-employee-know   \n",
              "\n",
              "                  IDWELL                  tbguid           lifetime_start  \\\n",
              "0     GPVO63973435661154  GB55QFGB46756147811400  2014-05-02 00:00:00.000   \n",
              "1     ZAYT33358197650329  GB29QCCC14341267287129  2018-01-28 14:00:00.000   \n",
              "2     FNVL11432909873086  GB02DJAW44801752494129  2011-09-14 00:00:00.000   \n",
              "3     JOKL33317998159514  GB84GHPH97287631470412  2016-01-12 09:00:00.000   \n",
              "4     XOSU92041716672870  GB08VYTX61977431827206  2018-06-14 13:00:00.000   \n",
              "...                  ...                     ...                      ...   \n",
              "2591  ZGUQ28062273906385  GB29BARQ28938453348107  2010-10-29 00:00:00.000   \n",
              "2592  JDXM01407042746495  GB33RCVQ79658159128646  2012-03-19 00:00:00.000   \n",
              "2593  UUDX23191327424070  GB90WEAA57424793540399  2018-11-21 10:00:00.000   \n",
              "2594  BTGV75021760350137  GB34QQIL39644388829912  2013-05-17 00:00:00.000   \n",
              "2595  TSRU62721693277580  GB81JFSI55732316790902  2013-07-09 00:00:00.000   \n",
              "\n",
              "                 lifetime_end        IDRECJOBPULL         REPORTTO  \\\n",
              "0     2019-01-04 10:00:00.000  FGNB86581338411987           Tubing   \n",
              "1     2019-05-17 12:00:00.000  XRYU81281518151403           Tubing   \n",
              "2     2012-08-20 00:00:00.000  PLPR44121073149707  Sucker Rod Pump   \n",
              "3     2017-03-16 16:30:00.000  MYCF04792093856141  Sucker Rod Pump   \n",
              "4     2020-04-15 17:37:11.338  WJDB83445325478746              NaN   \n",
              "...                       ...                 ...              ...   \n",
              "2591  2012-10-04 00:00:00.000  WJDB83445325478746              NaN   \n",
              "2592  2013-05-21 00:00:00.000  WJDB83445325478746              NaN   \n",
              "2593  2019-01-03 08:00:00.000  KMDU32603777743629             Rods   \n",
              "2594  2013-06-18 00:00:00.000  FVGJ49544944366169  Sucker Rod Pump   \n",
              "2595  2014-01-29 00:00:00.000  FJDA94520850029185           Tubing   \n",
              "\n",
              "                    FAILSTART  ... overall_max_sideload  shallow_max_sideload  \\\n",
              "0     2018-12-11 00:00:00.000  ...                  NaN                   NaN   \n",
              "1     2019-04-01 00:00:00.000  ...               179.44                179.44   \n",
              "2     2012-08-01 00:00:00.000  ...               105.76                105.76   \n",
              "3     2017-01-19 00:00:00.000  ...                98.18                 47.96   \n",
              "4                         NaN  ...               266.68                266.68   \n",
              "...                       ...  ...                  ...                   ...   \n",
              "2591                      NaN  ...                96.58                 96.58   \n",
              "2592                      NaN  ...                61.66                 61.66   \n",
              "2593  2018-12-03 00:00:00.000  ...               164.65                164.65   \n",
              "2594  2013-06-01 00:00:00.000  ...                  NaN                   NaN   \n",
              "2595  2014-01-14 00:00:00.000  ...                  NaN                   NaN   \n",
              "\n",
              "      max_unguided_sideload  DESANDDEGAS_TYP  CHROME_LENGTH  \\\n",
              "0                       NaN          UNKNOWN            0.0   \n",
              "1                    179.44       Miller LLC            0.0   \n",
              "2                    105.76       Miller LLC            0.0   \n",
              "3                     98.18       Miller LLC            0.0   \n",
              "4                    170.99       Miller LLC            0.0   \n",
              "...                     ...              ...            ...   \n",
              "2591                  96.58      Sanchez PLC            0.0   \n",
              "2592                  61.66      Sanchez PLC            0.0   \n",
              "2593                 121.77  West-Washington            0.0   \n",
              "2594                    NaN          UNKNOWN            0.0   \n",
              "2595                    NaN       Miller LLC            0.0   \n",
              "\n",
              "      ENDURALLOY_LENGTH  POLY_LENGTH  NIPPLE_SET_DEPTH pump_bore  \\\n",
              "0                  0.00          0.0           10024.8       1.5   \n",
              "1                  0.00          0.0           10235.6       1.5   \n",
              "2                  0.00          0.0           10401.9       1.5   \n",
              "3                  0.00          0.0            9557.7      1.75   \n",
              "4                129.39          0.0            9681.7      1.75   \n",
              "...                 ...          ...               ...       ...   \n",
              "2591               0.00          0.0            9708.4       1.5   \n",
              "2592               0.00          0.0            9904.4       1.5   \n",
              "2593              65.35          0.0            9014.5      1.75   \n",
              "2594               0.00          0.0            9532.2       1.5   \n",
              "2595               0.00          0.0           10165.0       1.5   \n",
              "\n",
              "        gasanchor_od  \n",
              "0                NaN  \n",
              "1                3.5  \n",
              "2                NaN  \n",
              "3                4.5  \n",
              "4                NaN  \n",
              "...              ...  \n",
              "2591  OtherOrUnknown  \n",
              "2592           2.875  \n",
              "2593           2.875  \n",
              "2594             NaN  \n",
              "2595           2.875  \n",
              "\n",
              "[2596 rows x 55 columns]"
            ],
            "text/html": [
              "\n",
              "  <div id=\"df-843aa95a-cce6-4e4f-b441-4a2856ec4418\">\n",
              "    <div class=\"colab-df-container\">\n",
              "      <div>\n",
              "<style scoped>\n",
              "    .dataframe tbody tr th:only-of-type {\n",
              "        vertical-align: middle;\n",
              "    }\n",
              "\n",
              "    .dataframe tbody tr th {\n",
              "        vertical-align: top;\n",
              "    }\n",
              "\n",
              "    .dataframe thead th {\n",
              "        text-align: right;\n",
              "    }\n",
              "</style>\n",
              "<table border=\"1\" class=\"dataframe\">\n",
              "  <thead>\n",
              "    <tr style=\"text-align: right;\">\n",
              "      <th></th>\n",
              "      <th>roduid</th>\n",
              "      <th>UWI</th>\n",
              "      <th>NODEID</th>\n",
              "      <th>IDWELL</th>\n",
              "      <th>tbguid</th>\n",
              "      <th>lifetime_start</th>\n",
              "      <th>lifetime_end</th>\n",
              "      <th>IDRECJOBPULL</th>\n",
              "      <th>REPORTTO</th>\n",
              "      <th>FAILSTART</th>\n",
              "      <th>...</th>\n",
              "      <th>overall_max_sideload</th>\n",
              "      <th>shallow_max_sideload</th>\n",
              "      <th>max_unguided_sideload</th>\n",
              "      <th>DESANDDEGAS_TYP</th>\n",
              "      <th>CHROME_LENGTH</th>\n",
              "      <th>ENDURALLOY_LENGTH</th>\n",
              "      <th>POLY_LENGTH</th>\n",
              "      <th>NIPPLE_SET_DEPTH</th>\n",
              "      <th>pump_bore</th>\n",
              "      <th>gasanchor_od</th>\n",
              "    </tr>\n",
              "  </thead>\n",
              "  <tbody>\n",
              "    <tr>\n",
              "      <th>0</th>\n",
              "      <td>GB27GKBE51029074693667</td>\n",
              "      <td>175-58-0111</td>\n",
              "      <td>box-child-doctor</td>\n",
              "      <td>GPVO63973435661154</td>\n",
              "      <td>GB55QFGB46756147811400</td>\n",
              "      <td>2014-05-02 00:00:00.000</td>\n",
              "      <td>2019-01-04 10:00:00.000</td>\n",
              "      <td>FGNB86581338411987</td>\n",
              "      <td>Tubing</td>\n",
              "      <td>2018-12-11 00:00:00.000</td>\n",
              "      <td>...</td>\n",
              "      <td>NaN</td>\n",
              "      <td>NaN</td>\n",
              "      <td>NaN</td>\n",
              "      <td>UNKNOWN</td>\n",
              "      <td>0.0</td>\n",
              "      <td>0.00</td>\n",
              "      <td>0.0</td>\n",
              "      <td>10024.8</td>\n",
              "      <td>1.5</td>\n",
              "      <td>NaN</td>\n",
              "    </tr>\n",
              "    <tr>\n",
              "      <th>1</th>\n",
              "      <td>GB53OEVX46438297645035</td>\n",
              "      <td>333-68-3523</td>\n",
              "      <td>outside-worry</td>\n",
              "      <td>ZAYT33358197650329</td>\n",
              "      <td>GB29QCCC14341267287129</td>\n",
              "      <td>2018-01-28 14:00:00.000</td>\n",
              "      <td>2019-05-17 12:00:00.000</td>\n",
              "      <td>XRYU81281518151403</td>\n",
              "      <td>Tubing</td>\n",
              "      <td>2019-04-01 00:00:00.000</td>\n",
              "      <td>...</td>\n",
              "      <td>179.44</td>\n",
              "      <td>179.44</td>\n",
              "      <td>179.44</td>\n",
              "      <td>Miller LLC</td>\n",
              "      <td>0.0</td>\n",
              "      <td>0.00</td>\n",
              "      <td>0.0</td>\n",
              "      <td>10235.6</td>\n",
              "      <td>1.5</td>\n",
              "      <td>3.5</td>\n",
              "    </tr>\n",
              "    <tr>\n",
              "      <th>2</th>\n",
              "      <td>GB95BPWW35640301552066</td>\n",
              "      <td>165-51-5897</td>\n",
              "      <td>near-learn-simply</td>\n",
              "      <td>FNVL11432909873086</td>\n",
              "      <td>GB02DJAW44801752494129</td>\n",
              "      <td>2011-09-14 00:00:00.000</td>\n",
              "      <td>2012-08-20 00:00:00.000</td>\n",
              "      <td>PLPR44121073149707</td>\n",
              "      <td>Sucker Rod Pump</td>\n",
              "      <td>2012-08-01 00:00:00.000</td>\n",
              "      <td>...</td>\n",
              "      <td>105.76</td>\n",
              "      <td>105.76</td>\n",
              "      <td>105.76</td>\n",
              "      <td>Miller LLC</td>\n",
              "      <td>0.0</td>\n",
              "      <td>0.00</td>\n",
              "      <td>0.0</td>\n",
              "      <td>10401.9</td>\n",
              "      <td>1.5</td>\n",
              "      <td>NaN</td>\n",
              "    </tr>\n",
              "    <tr>\n",
              "      <th>3</th>\n",
              "      <td>GB79UEDN31454825972680</td>\n",
              "      <td>543-56-3494</td>\n",
              "      <td>sea-improve-place</td>\n",
              "      <td>JOKL33317998159514</td>\n",
              "      <td>GB84GHPH97287631470412</td>\n",
              "      <td>2016-01-12 09:00:00.000</td>\n",
              "      <td>2017-03-16 16:30:00.000</td>\n",
              "      <td>MYCF04792093856141</td>\n",
              "      <td>Sucker Rod Pump</td>\n",
              "      <td>2017-01-19 00:00:00.000</td>\n",
              "      <td>...</td>\n",
              "      <td>98.18</td>\n",
              "      <td>47.96</td>\n",
              "      <td>98.18</td>\n",
              "      <td>Miller LLC</td>\n",
              "      <td>0.0</td>\n",
              "      <td>0.00</td>\n",
              "      <td>0.0</td>\n",
              "      <td>9557.7</td>\n",
              "      <td>1.75</td>\n",
              "      <td>4.5</td>\n",
              "    </tr>\n",
              "    <tr>\n",
              "      <th>4</th>\n",
              "      <td>GB20XCTM13691331349509</td>\n",
              "      <td>391-37-2039</td>\n",
              "      <td>personal-candidate</td>\n",
              "      <td>XOSU92041716672870</td>\n",
              "      <td>GB08VYTX61977431827206</td>\n",
              "      <td>2018-06-14 13:00:00.000</td>\n",
              "      <td>2020-04-15 17:37:11.338</td>\n",
              "      <td>WJDB83445325478746</td>\n",
              "      <td>NaN</td>\n",
              "      <td>NaN</td>\n",
              "      <td>...</td>\n",
              "      <td>266.68</td>\n",
              "      <td>266.68</td>\n",
              "      <td>170.99</td>\n",
              "      <td>Miller LLC</td>\n",
              "      <td>0.0</td>\n",
              "      <td>129.39</td>\n",
              "      <td>0.0</td>\n",
              "      <td>9681.7</td>\n",
              "      <td>1.75</td>\n",
              "      <td>NaN</td>\n",
              "    </tr>\n",
              "    <tr>\n",
              "      <th>...</th>\n",
              "      <td>...</td>\n",
              "      <td>...</td>\n",
              "      <td>...</td>\n",
              "      <td>...</td>\n",
              "      <td>...</td>\n",
              "      <td>...</td>\n",
              "      <td>...</td>\n",
              "      <td>...</td>\n",
              "      <td>...</td>\n",
              "      <td>...</td>\n",
              "      <td>...</td>\n",
              "      <td>...</td>\n",
              "      <td>...</td>\n",
              "      <td>...</td>\n",
              "      <td>...</td>\n",
              "      <td>...</td>\n",
              "      <td>...</td>\n",
              "      <td>...</td>\n",
              "      <td>...</td>\n",
              "      <td>...</td>\n",
              "      <td>...</td>\n",
              "    </tr>\n",
              "    <tr>\n",
              "      <th>2591</th>\n",
              "      <td>GB74QISK75341223174934</td>\n",
              "      <td>454-02-0835</td>\n",
              "      <td>raise-itself-others</td>\n",
              "      <td>ZGUQ28062273906385</td>\n",
              "      <td>GB29BARQ28938453348107</td>\n",
              "      <td>2010-10-29 00:00:00.000</td>\n",
              "      <td>2012-10-04 00:00:00.000</td>\n",
              "      <td>WJDB83445325478746</td>\n",
              "      <td>NaN</td>\n",
              "      <td>NaN</td>\n",
              "      <td>...</td>\n",
              "      <td>96.58</td>\n",
              "      <td>96.58</td>\n",
              "      <td>96.58</td>\n",
              "      <td>Sanchez PLC</td>\n",
              "      <td>0.0</td>\n",
              "      <td>0.00</td>\n",
              "      <td>0.0</td>\n",
              "      <td>9708.4</td>\n",
              "      <td>1.5</td>\n",
              "      <td>OtherOrUnknown</td>\n",
              "    </tr>\n",
              "    <tr>\n",
              "      <th>2592</th>\n",
              "      <td>GB75FIRZ53489602517781</td>\n",
              "      <td>289-32-8553</td>\n",
              "      <td>effect-hand-bill</td>\n",
              "      <td>JDXM01407042746495</td>\n",
              "      <td>GB33RCVQ79658159128646</td>\n",
              "      <td>2012-03-19 00:00:00.000</td>\n",
              "      <td>2013-05-21 00:00:00.000</td>\n",
              "      <td>WJDB83445325478746</td>\n",
              "      <td>NaN</td>\n",
              "      <td>NaN</td>\n",
              "      <td>...</td>\n",
              "      <td>61.66</td>\n",
              "      <td>61.66</td>\n",
              "      <td>61.66</td>\n",
              "      <td>Sanchez PLC</td>\n",
              "      <td>0.0</td>\n",
              "      <td>0.00</td>\n",
              "      <td>0.0</td>\n",
              "      <td>9904.4</td>\n",
              "      <td>1.5</td>\n",
              "      <td>2.875</td>\n",
              "    </tr>\n",
              "    <tr>\n",
              "      <th>2593</th>\n",
              "      <td>GB54JAPU86068543576293</td>\n",
              "      <td>398-34-2865</td>\n",
              "      <td>manage-force-tv</td>\n",
              "      <td>UUDX23191327424070</td>\n",
              "      <td>GB90WEAA57424793540399</td>\n",
              "      <td>2018-11-21 10:00:00.000</td>\n",
              "      <td>2019-01-03 08:00:00.000</td>\n",
              "      <td>KMDU32603777743629</td>\n",
              "      <td>Rods</td>\n",
              "      <td>2018-12-03 00:00:00.000</td>\n",
              "      <td>...</td>\n",
              "      <td>164.65</td>\n",
              "      <td>164.65</td>\n",
              "      <td>121.77</td>\n",
              "      <td>West-Washington</td>\n",
              "      <td>0.0</td>\n",
              "      <td>65.35</td>\n",
              "      <td>0.0</td>\n",
              "      <td>9014.5</td>\n",
              "      <td>1.75</td>\n",
              "      <td>2.875</td>\n",
              "    </tr>\n",
              "    <tr>\n",
              "      <th>2594</th>\n",
              "      <td>GB72HWVC93865937237796</td>\n",
              "      <td>354-39-2775</td>\n",
              "      <td>wide-recently-star</td>\n",
              "      <td>BTGV75021760350137</td>\n",
              "      <td>GB34QQIL39644388829912</td>\n",
              "      <td>2013-05-17 00:00:00.000</td>\n",
              "      <td>2013-06-18 00:00:00.000</td>\n",
              "      <td>FVGJ49544944366169</td>\n",
              "      <td>Sucker Rod Pump</td>\n",
              "      <td>2013-06-01 00:00:00.000</td>\n",
              "      <td>...</td>\n",
              "      <td>NaN</td>\n",
              "      <td>NaN</td>\n",
              "      <td>NaN</td>\n",
              "      <td>UNKNOWN</td>\n",
              "      <td>0.0</td>\n",
              "      <td>0.00</td>\n",
              "      <td>0.0</td>\n",
              "      <td>9532.2</td>\n",
              "      <td>1.5</td>\n",
              "      <td>NaN</td>\n",
              "    </tr>\n",
              "    <tr>\n",
              "      <th>2595</th>\n",
              "      <td>GB18DGAF81117806823611</td>\n",
              "      <td>814-39-3589</td>\n",
              "      <td>whose-employee-know</td>\n",
              "      <td>TSRU62721693277580</td>\n",
              "      <td>GB81JFSI55732316790902</td>\n",
              "      <td>2013-07-09 00:00:00.000</td>\n",
              "      <td>2014-01-29 00:00:00.000</td>\n",
              "      <td>FJDA94520850029185</td>\n",
              "      <td>Tubing</td>\n",
              "      <td>2014-01-14 00:00:00.000</td>\n",
              "      <td>...</td>\n",
              "      <td>NaN</td>\n",
              "      <td>NaN</td>\n",
              "      <td>NaN</td>\n",
              "      <td>Miller LLC</td>\n",
              "      <td>0.0</td>\n",
              "      <td>0.00</td>\n",
              "      <td>0.0</td>\n",
              "      <td>10165.0</td>\n",
              "      <td>1.5</td>\n",
              "      <td>2.875</td>\n",
              "    </tr>\n",
              "  </tbody>\n",
              "</table>\n",
              "<p>2596 rows × 55 columns</p>\n",
              "</div>\n",
              "      <button class=\"colab-df-convert\" onclick=\"convertToInteractive('df-843aa95a-cce6-4e4f-b441-4a2856ec4418')\"\n",
              "              title=\"Convert this dataframe to an interactive table.\"\n",
              "              style=\"display:none;\">\n",
              "        \n",
              "  <svg xmlns=\"http://www.w3.org/2000/svg\" height=\"24px\"viewBox=\"0 0 24 24\"\n",
              "       width=\"24px\">\n",
              "    <path d=\"M0 0h24v24H0V0z\" fill=\"none\"/>\n",
              "    <path d=\"M18.56 5.44l.94 2.06.94-2.06 2.06-.94-2.06-.94-.94-2.06-.94 2.06-2.06.94zm-11 1L8.5 8.5l.94-2.06 2.06-.94-2.06-.94L8.5 2.5l-.94 2.06-2.06.94zm10 10l.94 2.06.94-2.06 2.06-.94-2.06-.94-.94-2.06-.94 2.06-2.06.94z\"/><path d=\"M17.41 7.96l-1.37-1.37c-.4-.4-.92-.59-1.43-.59-.52 0-1.04.2-1.43.59L10.3 9.45l-7.72 7.72c-.78.78-.78 2.05 0 2.83L4 21.41c.39.39.9.59 1.41.59.51 0 1.02-.2 1.41-.59l7.78-7.78 2.81-2.81c.8-.78.8-2.07 0-2.86zM5.41 20L4 18.59l7.72-7.72 1.47 1.35L5.41 20z\"/>\n",
              "  </svg>\n",
              "      </button>\n",
              "      \n",
              "  <style>\n",
              "    .colab-df-container {\n",
              "      display:flex;\n",
              "      flex-wrap:wrap;\n",
              "      gap: 12px;\n",
              "    }\n",
              "\n",
              "    .colab-df-convert {\n",
              "      background-color: #E8F0FE;\n",
              "      border: none;\n",
              "      border-radius: 50%;\n",
              "      cursor: pointer;\n",
              "      display: none;\n",
              "      fill: #1967D2;\n",
              "      height: 32px;\n",
              "      padding: 0 0 0 0;\n",
              "      width: 32px;\n",
              "    }\n",
              "\n",
              "    .colab-df-convert:hover {\n",
              "      background-color: #E2EBFA;\n",
              "      box-shadow: 0px 1px 2px rgba(60, 64, 67, 0.3), 0px 1px 3px 1px rgba(60, 64, 67, 0.15);\n",
              "      fill: #174EA6;\n",
              "    }\n",
              "\n",
              "    [theme=dark] .colab-df-convert {\n",
              "      background-color: #3B4455;\n",
              "      fill: #D2E3FC;\n",
              "    }\n",
              "\n",
              "    [theme=dark] .colab-df-convert:hover {\n",
              "      background-color: #434B5C;\n",
              "      box-shadow: 0px 1px 3px 1px rgba(0, 0, 0, 0.15);\n",
              "      filter: drop-shadow(0px 1px 2px rgba(0, 0, 0, 0.3));\n",
              "      fill: #FFFFFF;\n",
              "    }\n",
              "  </style>\n",
              "\n",
              "      <script>\n",
              "        const buttonEl =\n",
              "          document.querySelector('#df-843aa95a-cce6-4e4f-b441-4a2856ec4418 button.colab-df-convert');\n",
              "        buttonEl.style.display =\n",
              "          google.colab.kernel.accessAllowed ? 'block' : 'none';\n",
              "\n",
              "        async function convertToInteractive(key) {\n",
              "          const element = document.querySelector('#df-843aa95a-cce6-4e4f-b441-4a2856ec4418');\n",
              "          const dataTable =\n",
              "            await google.colab.kernel.invokeFunction('convertToInteractive',\n",
              "                                                     [key], {});\n",
              "          if (!dataTable) return;\n",
              "\n",
              "          const docLinkHtml = 'Like what you see? Visit the ' +\n",
              "            '<a target=\"_blank\" href=https://colab.research.google.com/notebooks/data_table.ipynb>data table notebook</a>'\n",
              "            + ' to learn more about interactive tables.';\n",
              "          element.innerHTML = '';\n",
              "          dataTable['output_type'] = 'display_data';\n",
              "          await google.colab.output.renderOutput(dataTable, element);\n",
              "          const docLink = document.createElement('div');\n",
              "          docLink.innerHTML = docLinkHtml;\n",
              "          element.appendChild(docLink);\n",
              "        }\n",
              "      </script>\n",
              "    </div>\n",
              "  </div>\n",
              "  "
            ]
          },
          "metadata": {},
          "execution_count": 24
        }
      ]
    },
    {
      "cell_type": "code",
      "source": [
        "filters = ['FAILURETYPE', 'AVG_DIFFERENTIAL_PRESSURE', 'AVG_OIL_VOLUME']\n",
        "tags = ['Not Failure', 'Failure']\n",
        "\n",
        "data['FAILURETYPE'] = data['FAILURETYPE'].replace(np.nan, 'Not Failure')\n",
        "data['FAILURETYPE'] = data['FAILURETYPE'].replace('Tubing', 'Failure')\n",
        "data['FAILURETYPE'] = data['FAILURETYPE'].replace('Sucker Rod Pump', 'Failure')\n",
        "data['FAILURETYPE'] = data['FAILURETYPE'].replace('Rods', 'Failure')\n",
        "data = data.replace('Other', 0)\n",
        "data = data.replace(np.nan, 0)\n",
        "min_length = min(list(data['FAILURETYPE'].value_counts(dropna=False)))"
      ],
      "metadata": {
        "id": "BRCGEqWFdfy1"
      },
      "execution_count": null,
      "outputs": []
    },
    {
      "cell_type": "code",
      "source": [
        "min_length = min(list(data['FAILURETYPE'].value_counts(dropna=False)))"
      ],
      "metadata": {
        "id": "uwHq25luHFK7"
      },
      "execution_count": null,
      "outputs": []
    },
    {
      "cell_type": "code",
      "source": [
        "filtered_data = data[filters]\n"
      ],
      "metadata": {
        "id": "blRs7HXDHKRJ"
      },
      "execution_count": null,
      "outputs": []
    },
    {
      "cell_type": "code",
      "source": [
        "\n",
        "numbered_labels = []\n",
        "for i in range(len(filtered_data)):\n",
        "  numbered_labels.append(tags.index(filtered_data.values[i][0]))"
      ],
      "metadata": {
        "id": "zo6oGn0ue7ui"
      },
      "execution_count": null,
      "outputs": []
    },
    {
      "cell_type": "code",
      "source": [
        "input_data = []\n",
        "for i in range(len(filtered_data)):\n",
        "  input_data.append(filtered_data.values[i][1:])"
      ],
      "metadata": {
        "id": "HduFbqvYHlwX"
      },
      "execution_count": null,
      "outputs": []
    },
    {
      "cell_type": "code",
      "source": [
        "input_data = np.array(input_data)\n",
        "print(input_data.shape)\n",
        "scaler = MinMaxScaler(feature_range=(-1,1))\n",
        "\n",
        "input_data = scaler.fit_transform(input_data)\n",
        "\n",
        "numbered_labels = np.array(numbered_labels)\n",
        "\n",
        "X_train, X_test, y_train, y_test = train_test_split(input_data, numbered_labels, test_size=0.2)\n",
        "\n",
        "print(X_train.shape, X_test.shape, y_train.shape, y_test.shape)"
      ],
      "metadata": {
        "colab": {
          "base_uri": "https://localhost:8080/"
        },
        "id": "IiEBAtY5dhKj",
        "outputId": "1e7df719-b1b5-4d46-f74d-cf7e1b671c28"
      },
      "execution_count": null,
      "outputs": [
        {
          "output_type": "stream",
          "name": "stdout",
          "text": [
            "(2596, 2)\n",
            "(2076, 2) (520, 2) (2076,) (520,)\n"
          ]
        }
      ]
    },
    {
      "cell_type": "code",
      "source": [
        "\n",
        "# Init classifier\n",
        "xgb_cl = xgb.XGBClassifier(eta=.01, max_depth = 3)\n",
        "\n",
        "# Fit\n",
        "xgb_cl.fit(X_train, y_train)\n",
        "\n",
        "# Predict\n"
      ],
      "metadata": {
        "colab": {
          "base_uri": "https://localhost:8080/",
          "height": 248
        },
        "id": "JSaeVCAEdW13",
        "outputId": "a6ce94d8-ab2b-4595-9b99-3bafa51ca64b"
      },
      "execution_count": null,
      "outputs": [
        {
          "output_type": "execute_result",
          "data": {
            "text/plain": [
              "XGBClassifier(base_score=None, booster=None, callbacks=None,\n",
              "              colsample_bylevel=None, colsample_bynode=None,\n",
              "              colsample_bytree=None, early_stopping_rounds=None,\n",
              "              enable_categorical=False, eta=0.01, eval_metric=None,\n",
              "              feature_types=None, gamma=None, gpu_id=None, grow_policy=None,\n",
              "              importance_type=None, interaction_constraints=None,\n",
              "              learning_rate=None, max_bin=None, max_cat_threshold=None,\n",
              "              max_cat_to_onehot=None, max_delta_step=None, max_depth=3,\n",
              "              max_leaves=None, min_child_weight=None, missing=nan,\n",
              "              monotone_constraints=None, n_estimators=100, n_jobs=None,\n",
              "              num_parallel_tree=None, predictor=None, ...)"
            ],
            "text/html": [
              "<style>#sk-container-id-2 {color: black;background-color: white;}#sk-container-id-2 pre{padding: 0;}#sk-container-id-2 div.sk-toggleable {background-color: white;}#sk-container-id-2 label.sk-toggleable__label {cursor: pointer;display: block;width: 100%;margin-bottom: 0;padding: 0.3em;box-sizing: border-box;text-align: center;}#sk-container-id-2 label.sk-toggleable__label-arrow:before {content: \"▸\";float: left;margin-right: 0.25em;color: #696969;}#sk-container-id-2 label.sk-toggleable__label-arrow:hover:before {color: black;}#sk-container-id-2 div.sk-estimator:hover label.sk-toggleable__label-arrow:before {color: black;}#sk-container-id-2 div.sk-toggleable__content {max-height: 0;max-width: 0;overflow: hidden;text-align: left;background-color: #f0f8ff;}#sk-container-id-2 div.sk-toggleable__content pre {margin: 0.2em;color: black;border-radius: 0.25em;background-color: #f0f8ff;}#sk-container-id-2 input.sk-toggleable__control:checked~div.sk-toggleable__content {max-height: 200px;max-width: 100%;overflow: auto;}#sk-container-id-2 input.sk-toggleable__control:checked~label.sk-toggleable__label-arrow:before {content: \"▾\";}#sk-container-id-2 div.sk-estimator input.sk-toggleable__control:checked~label.sk-toggleable__label {background-color: #d4ebff;}#sk-container-id-2 div.sk-label input.sk-toggleable__control:checked~label.sk-toggleable__label {background-color: #d4ebff;}#sk-container-id-2 input.sk-hidden--visually {border: 0;clip: rect(1px 1px 1px 1px);clip: rect(1px, 1px, 1px, 1px);height: 1px;margin: -1px;overflow: hidden;padding: 0;position: absolute;width: 1px;}#sk-container-id-2 div.sk-estimator {font-family: monospace;background-color: #f0f8ff;border: 1px dotted black;border-radius: 0.25em;box-sizing: border-box;margin-bottom: 0.5em;}#sk-container-id-2 div.sk-estimator:hover {background-color: #d4ebff;}#sk-container-id-2 div.sk-parallel-item::after {content: \"\";width: 100%;border-bottom: 1px solid gray;flex-grow: 1;}#sk-container-id-2 div.sk-label:hover label.sk-toggleable__label {background-color: #d4ebff;}#sk-container-id-2 div.sk-serial::before {content: \"\";position: absolute;border-left: 1px solid gray;box-sizing: border-box;top: 0;bottom: 0;left: 50%;z-index: 0;}#sk-container-id-2 div.sk-serial {display: flex;flex-direction: column;align-items: center;background-color: white;padding-right: 0.2em;padding-left: 0.2em;position: relative;}#sk-container-id-2 div.sk-item {position: relative;z-index: 1;}#sk-container-id-2 div.sk-parallel {display: flex;align-items: stretch;justify-content: center;background-color: white;position: relative;}#sk-container-id-2 div.sk-item::before, #sk-container-id-2 div.sk-parallel-item::before {content: \"\";position: absolute;border-left: 1px solid gray;box-sizing: border-box;top: 0;bottom: 0;left: 50%;z-index: -1;}#sk-container-id-2 div.sk-parallel-item {display: flex;flex-direction: column;z-index: 1;position: relative;background-color: white;}#sk-container-id-2 div.sk-parallel-item:first-child::after {align-self: flex-end;width: 50%;}#sk-container-id-2 div.sk-parallel-item:last-child::after {align-self: flex-start;width: 50%;}#sk-container-id-2 div.sk-parallel-item:only-child::after {width: 0;}#sk-container-id-2 div.sk-dashed-wrapped {border: 1px dashed gray;margin: 0 0.4em 0.5em 0.4em;box-sizing: border-box;padding-bottom: 0.4em;background-color: white;}#sk-container-id-2 div.sk-label label {font-family: monospace;font-weight: bold;display: inline-block;line-height: 1.2em;}#sk-container-id-2 div.sk-label-container {text-align: center;}#sk-container-id-2 div.sk-container {/* jupyter's `normalize.less` sets `[hidden] { display: none; }` but bootstrap.min.css set `[hidden] { display: none !important; }` so we also need the `!important` here to be able to override the default hidden behavior on the sphinx rendered scikit-learn.org. See: https://github.com/scikit-learn/scikit-learn/issues/21755 */display: inline-block !important;position: relative;}#sk-container-id-2 div.sk-text-repr-fallback {display: none;}</style><div id=\"sk-container-id-2\" class=\"sk-top-container\"><div class=\"sk-text-repr-fallback\"><pre>XGBClassifier(base_score=None, booster=None, callbacks=None,\n",
              "              colsample_bylevel=None, colsample_bynode=None,\n",
              "              colsample_bytree=None, early_stopping_rounds=None,\n",
              "              enable_categorical=False, eta=0.01, eval_metric=None,\n",
              "              feature_types=None, gamma=None, gpu_id=None, grow_policy=None,\n",
              "              importance_type=None, interaction_constraints=None,\n",
              "              learning_rate=None, max_bin=None, max_cat_threshold=None,\n",
              "              max_cat_to_onehot=None, max_delta_step=None, max_depth=3,\n",
              "              max_leaves=None, min_child_weight=None, missing=nan,\n",
              "              monotone_constraints=None, n_estimators=100, n_jobs=None,\n",
              "              num_parallel_tree=None, predictor=None, ...)</pre><b>In a Jupyter environment, please rerun this cell to show the HTML representation or trust the notebook. <br />On GitHub, the HTML representation is unable to render, please try loading this page with nbviewer.org.</b></div><div class=\"sk-container\" hidden><div class=\"sk-item\"><div class=\"sk-estimator sk-toggleable\"><input class=\"sk-toggleable__control sk-hidden--visually\" id=\"sk-estimator-id-2\" type=\"checkbox\" checked><label for=\"sk-estimator-id-2\" class=\"sk-toggleable__label sk-toggleable__label-arrow\">XGBClassifier</label><div class=\"sk-toggleable__content\"><pre>XGBClassifier(base_score=None, booster=None, callbacks=None,\n",
              "              colsample_bylevel=None, colsample_bynode=None,\n",
              "              colsample_bytree=None, early_stopping_rounds=None,\n",
              "              enable_categorical=False, eta=0.01, eval_metric=None,\n",
              "              feature_types=None, gamma=None, gpu_id=None, grow_policy=None,\n",
              "              importance_type=None, interaction_constraints=None,\n",
              "              learning_rate=None, max_bin=None, max_cat_threshold=None,\n",
              "              max_cat_to_onehot=None, max_delta_step=None, max_depth=3,\n",
              "              max_leaves=None, min_child_weight=None, missing=nan,\n",
              "              monotone_constraints=None, n_estimators=100, n_jobs=None,\n",
              "              num_parallel_tree=None, predictor=None, ...)</pre></div></div></div></div></div>"
            ]
          },
          "metadata": {},
          "execution_count": 31
        }
      ]
    },
    {
      "cell_type": "code",
      "source": [
        "k_values = [i for i in range (1,31)]\n",
        "scores = []\n",
        "\n",
        "for k in k_values:\n",
        "    xgb_cl = xgb.XGBClassifier(eta=.01, max_depth = k)\n",
        "    score = cross_val_score(xgb_cl, X_test, y_test, cv=5)\n",
        "    scores.append(np.mean(score))\n",
        "sns.lineplot(x = k_values, y = scores, marker = 'o')\n",
        "plt.xlabel(\"K Values\")\n",
        "plt.ylabel(\"Accuracy Score\")"
      ],
      "metadata": {
        "colab": {
          "base_uri": "https://localhost:8080/",
          "height": 466
        },
        "id": "1hGTE2r7NLdz",
        "outputId": "f564f12c-08d6-479c-ae58-1d88f88abfbd"
      },
      "execution_count": null,
      "outputs": [
        {
          "output_type": "execute_result",
          "data": {
            "text/plain": [
              "Text(0, 0.5, 'Accuracy Score')"
            ]
          },
          "metadata": {},
          "execution_count": 42
        },
        {
          "output_type": "display_data",
          "data": {
            "text/plain": [
              "<Figure size 640x480 with 1 Axes>"
            ],
            "image/png": "[encoded data removed]"
          },
          "metadata": {}
        }
      ]
    },
    {
      "cell_type": "code",
      "source": [
        "y_pred = xgb_cl.predict(X_train)\n",
        "accuracy = accuracy_score(y_train, y_pred)\n",
        "print(\"Accuracy:\", accuracy)"
      ],
      "metadata": {
        "colab": {
          "base_uri": "https://localhost:8080/"
        },
        "id": "90ljifb74mqq",
        "outputId": "002a7b2a-fe61-4a2b-de9e-2717c0eab2ad"
      },
      "execution_count": null,
      "outputs": [
        {
          "output_type": "stream",
          "name": "stdout",
          "text": [
            "Accuracy: 0.6772639691714836\n"
          ]
        }
      ]
    },
    {
      "cell_type": "code",
      "source": [
        "\n",
        "y_pred = xgb_cl.predict(X_test)\n",
        "accuracy = accuracy_score(y_test, y_pred)\n",
        "print(\"Accuracy:\", accuracy)"
      ],
      "metadata": {
        "colab": {
          "base_uri": "https://localhost:8080/"
        },
        "id": "0UEdDyt9eJb4",
        "outputId": "e549a58e-e94c-454f-d844-c0366ebc97c8"
      },
      "execution_count": null,
      "outputs": [
        {
          "output_type": "stream",
          "name": "stdout",
          "text": [
            "Accuracy: 0.6788461538461539\n"
          ]
        }
      ]
    },
    {
      "cell_type": "markdown",
      "source": [
        "Test"
      ],
      "metadata": {
        "id": "-YF31kqsKBZ7"
      }
    },
    {
      "cell_type": "code",
      "source": [
        "fontdict = {'fontsize':16}\n",
        "\n",
        "confusion_matrix = metrics.confusion_matrix(y_pred=y_pred, y_true=y_test)\n",
        "cm_display = metrics.ConfusionMatrixDisplay(confusion_matrix = confusion_matrix)\n",
        "\n",
        "fig, ax = plt.subplots()\n",
        "cm_display.plot(ax=ax, cmap='Blues', values_format='d', xticks_rotation = 'vertical', fontdict=fontdict)\n",
        "plt.show()\n"
      ],
      "metadata": {
        "colab": {
          "base_uri": "https://localhost:8080/",
          "height": 635
        },
        "id": "JgYJCgWhStu7",
        "outputId": "28d3be86-31ba-4705-f652-3f2744b2d1ca"
      },
      "execution_count": null,
      "outputs": [
        {
          "output_type": "error",
          "ename": "TypeError",
          "evalue": "ignored",
          "traceback": [
            "\u001b[0;31m---------------------------------------------------------------------------\u001b[0m",
            "\u001b[0;31mTypeError\u001b[0m                                 Traceback (most recent call last)",
            "\u001b[0;32m<ipython-input-41-9969e17269b6>\u001b[0m in \u001b[0;36m<cell line: 7>\u001b[0;34m()\u001b[0m\n\u001b[1;32m      5\u001b[0m \u001b[0;34m\u001b[0m\u001b[0m\n\u001b[1;32m      6\u001b[0m \u001b[0mfig\u001b[0m\u001b[0;34m,\u001b[0m \u001b[0max\u001b[0m \u001b[0;34m=\u001b[0m \u001b[0mplt\u001b[0m\u001b[0;34m.\u001b[0m\u001b[0msubplots\u001b[0m\u001b[0;34m(\u001b[0m\u001b[0;34m)\u001b[0m\u001b[0;34m\u001b[0m\u001b[0;34m\u001b[0m\u001b[0m\n\u001b[0;32m----> 7\u001b[0;31m \u001b[0mcm_display\u001b[0m\u001b[0;34m.\u001b[0m\u001b[0mplot\u001b[0m\u001b[0;34m(\u001b[0m\u001b[0max\u001b[0m\u001b[0;34m=\u001b[0m\u001b[0max\u001b[0m\u001b[0;34m,\u001b[0m \u001b[0mcmap\u001b[0m\u001b[0;34m=\u001b[0m\u001b[0;34m'Blues'\u001b[0m\u001b[0;34m,\u001b[0m \u001b[0mvalues_format\u001b[0m\u001b[0;34m=\u001b[0m\u001b[0;34m'd'\u001b[0m\u001b[0;34m,\u001b[0m \u001b[0mxticks_rotation\u001b[0m \u001b[0;34m=\u001b[0m \u001b[0;34m'vertical'\u001b[0m\u001b[0;34m,\u001b[0m \u001b[0mfontdict\u001b[0m\u001b[0;34m=\u001b[0m\u001b[0mfontdict\u001b[0m\u001b[0;34m)\u001b[0m\u001b[0;34m\u001b[0m\u001b[0;34m\u001b[0m\u001b[0m\n\u001b[0m\u001b[1;32m      8\u001b[0m \u001b[0mplt\u001b[0m\u001b[0;34m.\u001b[0m\u001b[0mshow\u001b[0m\u001b[0;34m(\u001b[0m\u001b[0;34m)\u001b[0m\u001b[0;34m\u001b[0m\u001b[0;34m\u001b[0m\u001b[0m\n",
            "\u001b[0;31mTypeError\u001b[0m: plot() got an unexpected keyword argument 'fontdict'"
          ]
        },
        {
          "output_type": "display_data",
          "data": {
            "text/plain": [
              "<Figure size 640x480 with 1 Axes>"
            ],
            "image/png": "[encoded data removed]"
          },
          "metadata": {}
        }
      ]
    },
    {
      "cell_type": "code",
      "source": [
        "data = pd.read_csv('/content/drive/MyDrive/Group 3 Inventors Program Project/Data Sets/rodpump_failure.csv')\n",
        "data['FAILURETYPE'] = data['FAILURETYPE'].replace(np.nan, 'Not Failure')\n",
        "data['FAILURETYPE'] = data['FAILURETYPE'].replace('Tubing', 'Failure')\n",
        "data['FAILURETYPE'] = data['FAILURETYPE'].replace('Sucker Rod Pump', 'Failure')\n",
        "data['FAILURETYPE'] = data['FAILURETYPE'].replace('Rods', 'Failure')\n",
        "\n",
        "data = data.replace(np.nan, 0)\n",
        "filtered_data = data[filters]\n",
        "\n",
        "numbered_labels = []\n",
        "for i in range(len(filtered_data)):\n",
        "  numbered_labels.append(tags.index(filtered_data.values[i][0]))\n",
        "input_data = []\n",
        "for i in range(len(filtered_data)):\n",
        "  input_data.append(filtered_data.values[i][1:])\n",
        "\n",
        "input_data = np.array(input_data)\n",
        "\n",
        "input_data = scaler.transform(input_data)\n",
        "\n",
        "numbered_labels = np.array(numbered_labels)\n",
        "\n",
        "X_test= input_data\n",
        "y_test = numbered_labels\n",
        "print(X_test.shape, y_test.shape)"
      ],
      "metadata": {
        "id": "KaFWe4WmKG-K",
        "colab": {
          "base_uri": "https://localhost:8080/"
        },
        "outputId": "6c1c2953-59b9-491d-fc36-afa02021311b"
      },
      "execution_count": null,
      "outputs": [
        {
          "output_type": "stream",
          "name": "stdout",
          "text": [
            "(2596, 2) (2596,)\n"
          ]
        }
      ]
    },
    {
      "cell_type": "code",
      "source": [
        "y_pred = xgb_cl.predict(X_test)\n",
        "accuracy = accuracy_score(y_test, y_pred)\n",
        "print(\"Accuracy:\", accuracy)"
      ],
      "metadata": {
        "id": "_PVHSQQLKDLu",
        "colab": {
          "base_uri": "https://localhost:8080/"
        },
        "outputId": "7e84ed5f-80d8-4a70-bb8e-d5c2e0e73f84"
      },
      "execution_count": null,
      "outputs": [
        {
          "output_type": "stream",
          "name": "stdout",
          "text": [
            "Accuracy: 0.6733436055469953\n"
          ]
        }
      ]
    },
    {
      "cell_type": "code",
      "source": [
        "np.array(y_pred)"
      ],
      "metadata": {
        "id": "XQOR0cFaUcyi",
        "colab": {
          "base_uri": "https://localhost:8080/"
        },
        "outputId": "4caba141-e9c7-467f-945c-75097e75b812"
      },
      "execution_count": null,
      "outputs": [
        {
          "output_type": "execute_result",
          "data": {
            "text/plain": [
              "array([1, 1, 1, ..., 1, 1, 1])"
            ]
          },
          "metadata": {},
          "execution_count": 17
        }
      ]
    },
    {
      "cell_type": "code",
      "source": [
        "input_data = np.array(input_data)\n",
        "\n",
        "scaler = MinMaxScaler(feature_range=(-1,1))\n",
        "input_data = scaler.fit_transform(input_data)\n",
        "\n",
        "scores= []\n",
        "numbered_labels = np.array(numbered_labels)\n",
        "for i in range(0, 100):\n",
        "  X_train, X_test, y_train, y_test = train_test_split(input_data, numbered_labels, test_size=0.2, random_state = i)\n",
        "  # Init classifier\n",
        "  xgb_cl = xgb.XGBClassifier(eta=.01, max_depth = 3)\n",
        "\n",
        "  # Fit\n",
        "  xgb_cl.fit(X_train, y_train)\n",
        "\n",
        "  y_pred = xgb_cl.predict(X_test)\n",
        "\n",
        "  accuracy = accuracy_score(y_test, y_pred)\n",
        "  scores.append(accuracy)\n",
        "  print(\"Accuracy:\", accuracy)"
      ],
      "metadata": {
        "colab": {
          "base_uri": "https://localhost:8080/",
          "height": 501
        },
        "id": "FIAN0ktN1z7-",
        "outputId": "8f3f008c-6525-4bc0-cd26-c1e544951c61"
      },
      "execution_count": null,
      "outputs": [
        {
          "output_type": "stream",
          "name": "stdout",
          "text": [
            "Accuracy: 0.6653846153846154\n",
            "Accuracy: 0.6634615384615384\n",
            "Accuracy: 0.6557692307692308\n",
            "Accuracy: 0.7\n",
            "Accuracy: 0.7038461538461539\n",
            "Accuracy: 0.675\n",
            "Accuracy: 0.6538461538461539\n"
          ]
        },
        {
          "output_type": "error",
          "ename": "KeyboardInterrupt",
          "evalue": "ignored",
          "traceback": [
            "\u001b[0;31m---------------------------------------------------------------------------\u001b[0m",
            "\u001b[0;31mKeyboardInterrupt\u001b[0m                         Traceback (most recent call last)",
            "\u001b[0;32m<ipython-input-18-ec7d5fe4ba11>\u001b[0m in \u001b[0;36m<cell line: 8>\u001b[0;34m()\u001b[0m\n\u001b[1;32m     12\u001b[0m \u001b[0;34m\u001b[0m\u001b[0m\n\u001b[1;32m     13\u001b[0m   \u001b[0;31m# Fit\u001b[0m\u001b[0;34m\u001b[0m\u001b[0;34m\u001b[0m\u001b[0m\n\u001b[0;32m---> 14\u001b[0;31m   \u001b[0mxgb_cl\u001b[0m\u001b[0;34m.\u001b[0m\u001b[0mfit\u001b[0m\u001b[0;34m(\u001b[0m\u001b[0mX_train\u001b[0m\u001b[0;34m,\u001b[0m \u001b[0my_train\u001b[0m\u001b[0;34m)\u001b[0m\u001b[0;34m\u001b[0m\u001b[0;34m\u001b[0m\u001b[0m\n\u001b[0m\u001b[1;32m     15\u001b[0m \u001b[0;34m\u001b[0m\u001b[0m\n\u001b[1;32m     16\u001b[0m   \u001b[0my_pred\u001b[0m \u001b[0;34m=\u001b[0m \u001b[0mxgb_cl\u001b[0m\u001b[0;34m.\u001b[0m\u001b[0mpredict\u001b[0m\u001b[0;34m(\u001b[0m\u001b[0mX_test\u001b[0m\u001b[0;34m)\u001b[0m\u001b[0;34m\u001b[0m\u001b[0;34m\u001b[0m\u001b[0m\n",
            "\u001b[0;32m/usr/local/lib/python3.9/dist-packages/xgboost/core.py\u001b[0m in \u001b[0;36minner_f\u001b[0;34m(*args, **kwargs)\u001b[0m\n\u001b[1;32m    618\u001b[0m             \u001b[0;32mfor\u001b[0m \u001b[0mk\u001b[0m\u001b[0;34m,\u001b[0m \u001b[0marg\u001b[0m \u001b[0;32min\u001b[0m \u001b[0mzip\u001b[0m\u001b[0;34m(\u001b[0m\u001b[0msig\u001b[0m\u001b[0;34m.\u001b[0m\u001b[0mparameters\u001b[0m\u001b[0;34m,\u001b[0m \u001b[0margs\u001b[0m\u001b[0;34m)\u001b[0m\u001b[0;34m:\u001b[0m\u001b[0;34m\u001b[0m\u001b[0;34m\u001b[0m\u001b[0m\n\u001b[1;32m    619\u001b[0m                 \u001b[0mkwargs\u001b[0m\u001b[0;34m[\u001b[0m\u001b[0mk\u001b[0m\u001b[0;34m]\u001b[0m \u001b[0;34m=\u001b[0m \u001b[0marg\u001b[0m\u001b[0;34m\u001b[0m\u001b[0;34m\u001b[0m\u001b[0m\n\u001b[0;32m--> 620\u001b[0;31m             \u001b[0;32mreturn\u001b[0m \u001b[0mfunc\u001b[0m\u001b[0;34m(\u001b[0m\u001b[0;34m**\u001b[0m\u001b[0mkwargs\u001b[0m\u001b[0;34m)\u001b[0m\u001b[0;34m\u001b[0m\u001b[0;34m\u001b[0m\u001b[0m\n\u001b[0m\u001b[1;32m    621\u001b[0m \u001b[0;34m\u001b[0m\u001b[0m\n\u001b[1;32m    622\u001b[0m         \u001b[0;32mreturn\u001b[0m \u001b[0minner_f\u001b[0m\u001b[0;34m\u001b[0m\u001b[0;34m\u001b[0m\u001b[0m\n",
            "\u001b[0;32m/usr/local/lib/python3.9/dist-packages/xgboost/sklearn.py\u001b[0m in \u001b[0;36mfit\u001b[0;34m(self, X, y, sample_weight, base_margin, eval_set, eval_metric, early_stopping_rounds, verbose, xgb_model, sample_weight_eval_set, base_margin_eval_set, feature_weights, callbacks)\u001b[0m\n\u001b[1;32m   1488\u001b[0m             )\n\u001b[1;32m   1489\u001b[0m \u001b[0;34m\u001b[0m\u001b[0m\n\u001b[0;32m-> 1490\u001b[0;31m             self._Booster = train(\n\u001b[0m\u001b[1;32m   1491\u001b[0m                 \u001b[0mparams\u001b[0m\u001b[0;34m,\u001b[0m\u001b[0;34m\u001b[0m\u001b[0;34m\u001b[0m\u001b[0m\n\u001b[1;32m   1492\u001b[0m                 \u001b[0mtrain_dmatrix\u001b[0m\u001b[0;34m,\u001b[0m\u001b[0;34m\u001b[0m\u001b[0;34m\u001b[0m\u001b[0m\n",
            "\u001b[0;32m/usr/local/lib/python3.9/dist-packages/xgboost/core.py\u001b[0m in \u001b[0;36minner_f\u001b[0;34m(*args, **kwargs)\u001b[0m\n\u001b[1;32m    618\u001b[0m             \u001b[0;32mfor\u001b[0m \u001b[0mk\u001b[0m\u001b[0;34m,\u001b[0m \u001b[0marg\u001b[0m \u001b[0;32min\u001b[0m \u001b[0mzip\u001b[0m\u001b[0;34m(\u001b[0m\u001b[0msig\u001b[0m\u001b[0;34m.\u001b[0m\u001b[0mparameters\u001b[0m\u001b[0;34m,\u001b[0m \u001b[0margs\u001b[0m\u001b[0;34m)\u001b[0m\u001b[0;34m:\u001b[0m\u001b[0;34m\u001b[0m\u001b[0;34m\u001b[0m\u001b[0m\n\u001b[1;32m    619\u001b[0m                 \u001b[0mkwargs\u001b[0m\u001b[0;34m[\u001b[0m\u001b[0mk\u001b[0m\u001b[0;34m]\u001b[0m \u001b[0;34m=\u001b[0m \u001b[0marg\u001b[0m\u001b[0;34m\u001b[0m\u001b[0;34m\u001b[0m\u001b[0m\n\u001b[0;32m--> 620\u001b[0;31m             \u001b[0;32mreturn\u001b[0m \u001b[0mfunc\u001b[0m\u001b[0;34m(\u001b[0m\u001b[0;34m**\u001b[0m\u001b[0mkwargs\u001b[0m\u001b[0;34m)\u001b[0m\u001b[0;34m\u001b[0m\u001b[0;34m\u001b[0m\u001b[0m\n\u001b[0m\u001b[1;32m    621\u001b[0m \u001b[0;34m\u001b[0m\u001b[0m\n\u001b[1;32m    622\u001b[0m         \u001b[0;32mreturn\u001b[0m \u001b[0minner_f\u001b[0m\u001b[0;34m\u001b[0m\u001b[0;34m\u001b[0m\u001b[0m\n",
            "\u001b[0;32m/usr/local/lib/python3.9/dist-packages/xgboost/training.py\u001b[0m in \u001b[0;36mtrain\u001b[0;34m(params, dtrain, num_boost_round, evals, obj, feval, maximize, early_stopping_rounds, evals_result, verbose_eval, xgb_model, callbacks, custom_metric)\u001b[0m\n\u001b[1;32m    183\u001b[0m         \u001b[0;32mif\u001b[0m \u001b[0mcb_container\u001b[0m\u001b[0;34m.\u001b[0m\u001b[0mbefore_iteration\u001b[0m\u001b[0;34m(\u001b[0m\u001b[0mbst\u001b[0m\u001b[0;34m,\u001b[0m \u001b[0mi\u001b[0m\u001b[0;34m,\u001b[0m \u001b[0mdtrain\u001b[0m\u001b[0;34m,\u001b[0m \u001b[0mevals\u001b[0m\u001b[0;34m)\u001b[0m\u001b[0;34m:\u001b[0m\u001b[0;34m\u001b[0m\u001b[0;34m\u001b[0m\u001b[0m\n\u001b[1;32m    184\u001b[0m             \u001b[0;32mbreak\u001b[0m\u001b[0;34m\u001b[0m\u001b[0;34m\u001b[0m\u001b[0m\n\u001b[0;32m--> 185\u001b[0;31m         \u001b[0mbst\u001b[0m\u001b[0;34m.\u001b[0m\u001b[0mupdate\u001b[0m\u001b[0;34m(\u001b[0m\u001b[0mdtrain\u001b[0m\u001b[0;34m,\u001b[0m \u001b[0mi\u001b[0m\u001b[0;34m,\u001b[0m \u001b[0mobj\u001b[0m\u001b[0;34m)\u001b[0m\u001b[0;34m\u001b[0m\u001b[0;34m\u001b[0m\u001b[0m\n\u001b[0m\u001b[1;32m    186\u001b[0m         \u001b[0;32mif\u001b[0m \u001b[0mcb_container\u001b[0m\u001b[0;34m.\u001b[0m\u001b[0mafter_iteration\u001b[0m\u001b[0;34m(\u001b[0m\u001b[0mbst\u001b[0m\u001b[0;34m,\u001b[0m \u001b[0mi\u001b[0m\u001b[0;34m,\u001b[0m \u001b[0mdtrain\u001b[0m\u001b[0;34m,\u001b[0m \u001b[0mevals\u001b[0m\u001b[0;34m)\u001b[0m\u001b[0;34m:\u001b[0m\u001b[0;34m\u001b[0m\u001b[0;34m\u001b[0m\u001b[0m\n\u001b[1;32m    187\u001b[0m             \u001b[0;32mbreak\u001b[0m\u001b[0;34m\u001b[0m\u001b[0;34m\u001b[0m\u001b[0m\n",
            "\u001b[0;32m/usr/local/lib/python3.9/dist-packages/xgboost/core.py\u001b[0m in \u001b[0;36mupdate\u001b[0;34m(self, dtrain, iteration, fobj)\u001b[0m\n\u001b[1;32m   1916\u001b[0m \u001b[0;34m\u001b[0m\u001b[0m\n\u001b[1;32m   1917\u001b[0m         \u001b[0;32mif\u001b[0m \u001b[0mfobj\u001b[0m \u001b[0;32mis\u001b[0m \u001b[0;32mNone\u001b[0m\u001b[0;34m:\u001b[0m\u001b[0;34m\u001b[0m\u001b[0;34m\u001b[0m\u001b[0m\n\u001b[0;32m-> 1918\u001b[0;31m             _check_call(_LIB.XGBoosterUpdateOneIter(self.handle,\n\u001b[0m\u001b[1;32m   1919\u001b[0m                                                     \u001b[0mctypes\u001b[0m\u001b[0;34m.\u001b[0m\u001b[0mc_int\u001b[0m\u001b[0;34m(\u001b[0m\u001b[0miteration\u001b[0m\u001b[0;34m)\u001b[0m\u001b[0;34m,\u001b[0m\u001b[0;34m\u001b[0m\u001b[0;34m\u001b[0m\u001b[0m\n\u001b[1;32m   1920\u001b[0m                                                     dtrain.handle))\n",
            "\u001b[0;31mKeyboardInterrupt\u001b[0m: "
          ]
        }
      ]
    },
    {
      "cell_type": "code",
      "source": [
        "plt.hist(scores, 15)\n",
        "plt.xlabel(\"Model Accuracy\")\n",
        "plt.ylabel(\"Models in Accuracy Range\")\n",
        "plt.show()"
      ],
      "metadata": {
        "id": "0rPRCX9sR8QA"
      },
      "execution_count": null,
      "outputs": []
    },
    {
      "cell_type": "code",
      "source": [
        "import scipy.stats as st\n",
        "\n",
        "st.t.interval(alpha=0.95, df=len(scores)-1, loc=np.mean(scores), scale=st.sem(scores))\n"
      ],
      "metadata": {
        "id": "S3UczSK8c-zG"
      },
      "execution_count": null,
      "outputs": []
    }
  ]
}